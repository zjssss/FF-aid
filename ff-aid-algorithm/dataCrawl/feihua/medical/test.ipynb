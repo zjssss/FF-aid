{
 "nbformat": 4,
 "nbformat_minor": 2,
 "metadata": {
  "language_info": {
   "name": "python",
   "codemirror_mode": {
    "name": "ipython",
    "version": 3
   },
   "version": "3.7.3-final"
  },
  "orig_nbformat": 2,
  "file_extension": ".py",
  "mimetype": "text/x-python",
  "name": "python",
  "npconvert_exporter": "python",
  "pygments_lexer": "ipython3",
  "version": 3,
  "kernelspec": {
   "name": "python3",
   "display_name": "Python 3"
  }
 },
 "cells": [
  {
   "cell_type": "code",
   "execution_count": 7,
   "metadata": {},
   "outputs": [
    {
     "output_type": "error",
     "ename": "AttributeError",
     "evalue": "'Node' object has no attribute 'hash'",
     "traceback": [
      "\u001b[0;31m---------------------------------------------------------------------------\u001b[0m",
      "\u001b[0;31mAttributeError\u001b[0m                            Traceback (most recent call last)",
      "\u001b[0;32m<ipython-input-7-34c190eea454>\u001b[0m in \u001b[0;36m<module>\u001b[0;34m\u001b[0m\n\u001b[1;32m      8\u001b[0m \u001b[0;34m\u001b[0m\u001b[0m\n\u001b[1;32m      9\u001b[0m \u001b[0mn\u001b[0m \u001b[0;34m=\u001b[0m \u001b[0mNode\u001b[0m\u001b[0;34m(\u001b[0m\u001b[0;34m'disease'\u001b[0m\u001b[0;34m,\u001b[0m \u001b[0;34m**\u001b[0m\u001b[0md\u001b[0m\u001b[0;34m)\u001b[0m\u001b[0;34m\u001b[0m\u001b[0;34m\u001b[0m\u001b[0m\n\u001b[0;32m---> 10\u001b[0;31m \u001b[0mn\u001b[0m\u001b[0;34m.\u001b[0m\u001b[0mhash\u001b[0m\u001b[0;34m(\u001b[0m\u001b[0;34m)\u001b[0m\u001b[0;34m\u001b[0m\u001b[0;34m\u001b[0m\u001b[0m\n\u001b[0m\u001b[1;32m     11\u001b[0m \u001b[0mn\u001b[0m \u001b[0;34m=\u001b[0m \u001b[0mg\u001b[0m\u001b[0;34m.\u001b[0m\u001b[0mnodes\u001b[0m\u001b[0;34m.\u001b[0m\u001b[0mmatch\u001b[0m\u001b[0;34m(\u001b[0m\u001b[0;34m'disease'\u001b[0m\u001b[0;34m,\u001b[0m \u001b[0mname\u001b[0m \u001b[0;34m=\u001b[0m \u001b[0;34m'a'\u001b[0m\u001b[0;34m)\u001b[0m\u001b[0;34m.\u001b[0m\u001b[0mfirst\u001b[0m\u001b[0;34m(\u001b[0m\u001b[0;34m)\u001b[0m\u001b[0;34m\u001b[0m\u001b[0;34m\u001b[0m\u001b[0m\n\u001b[1;32m     12\u001b[0m \u001b[0mg\u001b[0m\u001b[0;34m.\u001b[0m\u001b[0mexists\u001b[0m\u001b[0;34m(\u001b[0m\u001b[0mn\u001b[0m\u001b[0;34m)\u001b[0m\u001b[0;34m\u001b[0m\u001b[0;34m\u001b[0m\u001b[0m\n",
      "\u001b[0;31mAttributeError\u001b[0m: 'Node' object has no attribute 'hash'"
     ]
    }
   ],
   "source": [
    "from py2neo import Graph, Node, Relationship\n",
    "\n",
    "\n",
    "g = Graph('http://localhost:7474/', auth = ('neo4j', '200001'))\n",
    "d = dict()\n",
    "d['name'] = 'a'\n",
    "d['care'] = 'c'\n",
    "\n",
    "n = Node('disease', **d)\n",
    "hash(n)\n",
    "n = g.nodes.match('disease', name = 'a').first()\n",
    "g.exists(n)\n",
    "\n"
   ]
  },
  {
   "cell_type": "code",
   "execution_count": 55,
   "metadata": {},
   "outputs": [
    {
     "output_type": "execute_result",
     "data": {
      "text/plain": "'\\r\\n\\t\\t\\t\\t\\u3000\\u3000消化性溃疡的临床表现\\r\\n\\u3000\\u3000一、消化性溃疡疼痛特点\\r\\n\\u3000\\u30001、长期性：由于溃疡发生后可自行愈合，但每于愈合后又好复发，故常有上腹疼痛长期反复发作的特点。整个病程平均6～7年，有的可长达一、二十年，甚至更长。\\r\\n\\u3000\\u30002、周期性：上腹疼痛呈反复周期性发作，乃为此种溃疡的特征之一，尤以十二指肠溃疡更为突出。中上腹疼痛发作可持续几天、几周或更长，继以较长时间的缓解。全年都可发作，但以春、秋季节发作者多见。\\r\\n\\u3000\\u30003、节律性：溃疡疼痛与饮食之间的关系具有明显的相关性和节律性。在一天中，凌晨3点至早餐的一段时间，胃酸分泌最低，故在此时间内很少发生疼痛。十二指肠溃疡疼痛在二餐之间发生，持续不减直至下餐进食或服制酸药物后缓解。一部分十二指肠溃疡病人，由于夜间的胃酸较高，尤其在睡前曾进餐者，可发生半夜疼痛。胃溃疡疼痛的发生较不规则，常在餐后1小时内发生，经1～2小时后逐渐缓解，直至下餐进食后再复出现上述节律。\\r\\n\\u3000\\u30004、疼痛部位：十二指肠溃疡的疼痛多出现于中上腹部，或在脐上方，或在脐上方偏右处；胃溃疡疼痛的位置也多在中上腹，但稍偏高处，或在剑突下和剑突下偏左处。疼痛范围约数厘米直径大小。因为空腔内脏的疼痛在体表上的定位一般不十分确切。所以，疼痛的部位也不一定准确反映溃疡所在解剖位置。\\r\\n\\u3000\\u30005、疼痛性质：多呈钝痛、灼痛或饥饿样痛，一般较轻而能耐受。持续性剧痛提示溃疡穿透或穿孔。\\r\\n\\u3000\\u30006、影响因素：疼痛常因精神刺激、过度疲劳、饮食不慎、药物影响、气候变化等因素诱发或加重；可因休息、进食、服制酸药、以手按压疼痛部位、呕吐等方法而减轻或缓解。\\r\\n\\u3000\\u3000二、消化性溃疡其他症状与体征\\r\\n\\u3000\\u30001、其他症状：本病除中上腹疼痛外，尚可有唾液分泌增多、烧心、反胃、嗳酸、嗳气、恶心、呕吐等其他胃肠道症状。食欲多保持正常，但偶可因食后疼痛发作而惧食，以致体重减轻。全身症状可有失眠等神经官能症的表现，或有缓脉、多汗等植物神经系统不平衡的症状。\\r\\n\\u3000\\u30002、体征：溃疡发作期，中上腹部可有局限性压痛，程度不重，其压痛部位多与溃疡的位置基本相符。\\r\\n\\u3000\\u3000\\r\\n\\t\\t\\t'"
     },
     "metadata": {},
     "execution_count": 55
    }
   ],
   "source": [
    "import requests\n",
    "from lxml import etree\n",
    "\n",
    "r = requests.get('https://dise.fh21.com.cn/article/detail/140975.html')\n",
    "r.encoding = 'utf-8'\n",
    "html = etree.HTML(r.text)\n",
    "links = html.xpath('string(//ul[@class=\"detailc\"])')\n",
    "links"
   ]
  },
  {
   "cell_type": "code",
   "execution_count": 64,
   "metadata": {},
   "outputs": [
    {
     "output_type": "execute_result",
     "data": {
      "text/plain": "['上腹部疼痛 ', '胃脘饱胀', '食欲减退', '消瘦', '消化道出血']"
     },
     "metadata": {},
     "execution_count": 64
    }
   ],
   "source": [
    "s = '上腹部疼痛 、胃脘饱胀、食欲减退、消瘦、消化道出血'\n",
    "s.split('、')"
   ]
  }
 ]
}