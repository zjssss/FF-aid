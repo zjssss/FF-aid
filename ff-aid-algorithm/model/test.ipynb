{
 "nbformat": 4,
 "nbformat_minor": 2,
 "metadata": {
  "language_info": {
   "name": "python",
   "codemirror_mode": {
    "name": "ipython",
    "version": 3
   },
   "version": "3.7.3-final"
  },
  "orig_nbformat": 2,
  "file_extension": ".py",
  "mimetype": "text/x-python",
  "name": "python",
  "npconvert_exporter": "python",
  "pygments_lexer": "ipython3",
  "version": 3,
  "kernelspec": {
   "name": "python3",
   "display_name": "Python 3"
  }
 },
 "cells": [
  {
   "cell_type": "code",
   "execution_count": 3,
   "metadata": {
    "tags": [
     "outputPrepend"
    ]
   },
   "outputs": [
    {
     "output_type": "stream",
     "name": "stdout",
     "text": "ok\n"
    }
   ],
   "source": [
    "from py2neo import Graph,Node,Relationship\n",
    "graph = Graph(\"http://liublack.cn:7474\",auth=(\"neo4j\",\"200001\"))\n",
    "\n",
    "fsymptoms = open('./symptoms.txt', \"w\")\n",
    "nodes = graph.nodes.match('symptom')\n",
    "# nodes = list(nodes)\n",
    "for s in nodes:\n",
    "    # print(s['name'])\n",
    "    if s['name'].strip() != '':\n",
    "        fsymptoms.write(s['name'].strip() + '\\n')\n",
    "        fsymptoms.flush()\n",
    "\n",
    "print('ok')"
   ]
  },
  {
   "cell_type": "code",
   "execution_count": 7,
   "metadata": {},
   "outputs": [
    {
     "output_type": "stream",
     "name": "stdout",
     "text": "ok\n"
    }
   ],
   "source": [
    "fsymptoms = open('./symptoms.txt', \"r\")\n",
    "fsymptomsDic = open('./symptomsDic.txt', \"w\")\n",
    "for line in fsymptoms.readlines():\n",
    "   fsymptomsDic.write(line.strip() + ' 20000 n\\n')\n",
    "   fsymptomsDic.flush()\n",
    "print('ok')\n",
    ""
   ]
  },
  {
   "cell_type": "code",
   "execution_count": 14,
   "metadata": {},
   "outputs": [
    {
     "output_type": "error",
     "ename": "AttributeError",
     "evalue": "'NodeMatcher' object has no attribute 'match_one'",
     "traceback": [
      "\u001b[0;31m---------------------------------------------------------------------------\u001b[0m",
      "\u001b[0;31mAttributeError\u001b[0m                            Traceback (most recent call last)",
      "\u001b[0;32m<ipython-input-14-ea01a47485b3>\u001b[0m in \u001b[0;36m<module>\u001b[0;34m\u001b[0m\n\u001b[1;32m      1\u001b[0m \u001b[0mgraph\u001b[0m \u001b[0;34m=\u001b[0m \u001b[0mGraph\u001b[0m\u001b[0;34m(\u001b[0m\u001b[0;34m\"http://liublack.cn:7474\"\u001b[0m\u001b[0;34m,\u001b[0m\u001b[0mauth\u001b[0m\u001b[0;34m=\u001b[0m\u001b[0;34m(\u001b[0m\u001b[0;34m\"neo4j\"\u001b[0m\u001b[0;34m,\u001b[0m\u001b[0;34m\"200001\"\u001b[0m\u001b[0;34m)\u001b[0m\u001b[0;34m)\u001b[0m\u001b[0;34m\u001b[0m\u001b[0;34m\u001b[0m\u001b[0m\n\u001b[1;32m      2\u001b[0m \u001b[0;34m\u001b[0m\u001b[0m\n\u001b[0;32m----> 3\u001b[0;31m \u001b[0msymptom\u001b[0m \u001b[0;34m=\u001b[0m \u001b[0mgraph\u001b[0m\u001b[0;34m.\u001b[0m\u001b[0mnodes\u001b[0m\u001b[0;34m.\u001b[0m\u001b[0mmatch_one\u001b[0m\u001b[0;34m(\u001b[0m\u001b[0;34m'symptom'\u001b[0m\u001b[0;34m,\u001b[0m \u001b[0mname\u001b[0m \u001b[0;34m=\u001b[0m \u001b[0;34m'眩晕'\u001b[0m\u001b[0;34m)\u001b[0m\u001b[0;34m\u001b[0m\u001b[0;34m\u001b[0m\u001b[0m\n\u001b[0m\u001b[1;32m      4\u001b[0m \u001b[0;31m# # graph.match_one()\u001b[0m\u001b[0;34m\u001b[0m\u001b[0;34m\u001b[0m\u001b[0;34m\u001b[0m\u001b[0m\n\u001b[1;32m      5\u001b[0m \u001b[0;31m# graph.relationships.match(r_type='relate')\u001b[0m\u001b[0;34m\u001b[0m\u001b[0;34m\u001b[0m\u001b[0;34m\u001b[0m\u001b[0m\n",
      "\u001b[0;31mAttributeError\u001b[0m: 'NodeMatcher' object has no attribute 'match_one'"
     ]
    }
   ],
   "source": [
    "graph = Graph(\"http://liublack.cn:7474\",auth=(\"neo4j\",\"200001\"))\n",
    "\n",
    "symptom = graph.nodes.match('symptom', name = '眩晕').first()\n",
    "disease = graph.match(symptom, r_type = 'have')\n",
    "print(symptom)"
   ]
  },
  {
   "cell_type": "code",
   "execution_count": 2,
   "metadata": {},
   "outputs": [
    {
     "output_type": "execute_result",
     "data": {
      "text/plain": "'三凹征\\n'"
     },
     "metadata": {},
     "execution_count": 2
    }
   ],
   "source": [
    "f = open('symptoms.txt', 'r')\n",
    "f.readline()"
   ]
  }
 ]
}